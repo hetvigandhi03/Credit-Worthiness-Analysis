{
 "cells": [
  {
   "attachments": {},
   "cell_type": "markdown",
   "metadata": {},
   "source": [
    "# MLZilla\n",
    "By: Rounak Bachwani and Hetvi Gandhi\n",
    "## Problem Statement\n",
    "Our work proposes two main methodology, one is a tableau report which provides in detail data analysis on difference of people who are Default(Charged Off) and potential good loan(Current). Another is a Machine Learning model that predicts defaulters which would aid the financial industry to prevent financial loss."
   ]
  },
  {
   "attachments": {},
   "cell_type": "markdown",
   "metadata": {},
   "source": [
    "### Importing Libraries"
   ]
  },
  {
   "cell_type": "code",
   "execution_count": 121,
   "metadata": {},
   "outputs": [],
   "source": [
    "import pandas as pd\n",
    "import numpy as np\n",
    "import matplotlib.pyplot as plt\n",
    "import seaborn as sns\n",
    "from sklearn.preprocessing import LabelEncoder\n",
    "from imblearn.over_sampling import SMOTE\n",
    "from sklearn.ensemble import RandomForestClassifier\n",
    "from sklearn.model_selection import train_test_split\n",
    "from sklearn.metrics import accuracy_score\n",
    "from sklearn.metrics import confusion_matrix\n",
    "from sklearn.metrics import classification_report\n",
    "from sklearn.metrics import confusion_matrix\n",
    "from sklearn.feature_selection import SelectKBest\n",
    "from sklearn.feature_selection import chi2\n",
    "from sklearn.feature_selection import f_classif"
   ]
  },
  {
   "cell_type": "code",
   "execution_count": 122,
   "metadata": {},
   "outputs": [
    {
     "data": {
      "text/html": [
       "<div>\n",
       "<style scoped>\n",
       "    .dataframe tbody tr th:only-of-type {\n",
       "        vertical-align: middle;\n",
       "    }\n",
       "\n",
       "    .dataframe tbody tr th {\n",
       "        vertical-align: top;\n",
       "    }\n",
       "\n",
       "    .dataframe thead th {\n",
       "        text-align: right;\n",
       "    }\n",
       "</style>\n",
       "<table border=\"1\" class=\"dataframe\">\n",
       "  <thead>\n",
       "    <tr style=\"text-align: right;\">\n",
       "      <th></th>\n",
       "      <th>id</th>\n",
       "      <th>member_id</th>\n",
       "      <th>loan_amnt</th>\n",
       "      <th>funded_amnt</th>\n",
       "      <th>term</th>\n",
       "      <th>int_rate</th>\n",
       "      <th>installment</th>\n",
       "      <th>grade</th>\n",
       "      <th>sub_grade</th>\n",
       "      <th>emp_title</th>\n",
       "      <th>...</th>\n",
       "      <th>last_credit_pull_d</th>\n",
       "      <th>collections_12_mths_ex_med</th>\n",
       "      <th>mths_since_last_major_derog</th>\n",
       "      <th>application_type</th>\n",
       "      <th>annual_inc_joint</th>\n",
       "      <th>dti_joint</th>\n",
       "      <th>acc_now_delinq</th>\n",
       "      <th>tot_coll_amt</th>\n",
       "      <th>tot_cur_bal</th>\n",
       "      <th>total_rev_hi_lim</th>\n",
       "    </tr>\n",
       "  </thead>\n",
       "  <tbody>\n",
       "    <tr>\n",
       "      <th>0</th>\n",
       "      <td>60516983</td>\n",
       "      <td>64537751</td>\n",
       "      <td>20000</td>\n",
       "      <td>20000</td>\n",
       "      <td>36 months</td>\n",
       "      <td>12.29</td>\n",
       "      <td>667.06</td>\n",
       "      <td>C</td>\n",
       "      <td>C1</td>\n",
       "      <td>Accounting Clerk</td>\n",
       "      <td>...</td>\n",
       "      <td>Jan-16</td>\n",
       "      <td>0</td>\n",
       "      <td>NaN</td>\n",
       "      <td>INDIVIDUAL</td>\n",
       "      <td>NaN</td>\n",
       "      <td>NaN</td>\n",
       "      <td>0</td>\n",
       "      <td>0</td>\n",
       "      <td>52303</td>\n",
       "      <td>41000</td>\n",
       "    </tr>\n",
       "    <tr>\n",
       "      <th>1</th>\n",
       "      <td>60187139</td>\n",
       "      <td>64163931</td>\n",
       "      <td>11000</td>\n",
       "      <td>11000</td>\n",
       "      <td>36 months</td>\n",
       "      <td>12.69</td>\n",
       "      <td>369.00</td>\n",
       "      <td>C</td>\n",
       "      <td>C2</td>\n",
       "      <td>Accounts Payable Lead</td>\n",
       "      <td>...</td>\n",
       "      <td>Jan-16</td>\n",
       "      <td>0</td>\n",
       "      <td>79.0</td>\n",
       "      <td>INDIVIDUAL</td>\n",
       "      <td>NaN</td>\n",
       "      <td>NaN</td>\n",
       "      <td>0</td>\n",
       "      <td>332</td>\n",
       "      <td>175731</td>\n",
       "      <td>13100</td>\n",
       "    </tr>\n",
       "    <tr>\n",
       "      <th>2</th>\n",
       "      <td>60356453</td>\n",
       "      <td>64333218</td>\n",
       "      <td>7000</td>\n",
       "      <td>7000</td>\n",
       "      <td>36 months</td>\n",
       "      <td>9.99</td>\n",
       "      <td>225.84</td>\n",
       "      <td>B</td>\n",
       "      <td>B3</td>\n",
       "      <td>Nurse</td>\n",
       "      <td>...</td>\n",
       "      <td>Jan-16</td>\n",
       "      <td>0</td>\n",
       "      <td>NaN</td>\n",
       "      <td>INDIVIDUAL</td>\n",
       "      <td>NaN</td>\n",
       "      <td>NaN</td>\n",
       "      <td>0</td>\n",
       "      <td>0</td>\n",
       "      <td>202012</td>\n",
       "      <td>16300</td>\n",
       "    </tr>\n",
       "    <tr>\n",
       "      <th>3</th>\n",
       "      <td>59955769</td>\n",
       "      <td>63900496</td>\n",
       "      <td>10000</td>\n",
       "      <td>10000</td>\n",
       "      <td>36 months</td>\n",
       "      <td>10.99</td>\n",
       "      <td>327.34</td>\n",
       "      <td>B</td>\n",
       "      <td>B4</td>\n",
       "      <td>Service Manager</td>\n",
       "      <td>...</td>\n",
       "      <td>Jan-16</td>\n",
       "      <td>0</td>\n",
       "      <td>NaN</td>\n",
       "      <td>INDIVIDUAL</td>\n",
       "      <td>NaN</td>\n",
       "      <td>NaN</td>\n",
       "      <td>0</td>\n",
       "      <td>0</td>\n",
       "      <td>108235</td>\n",
       "      <td>34750</td>\n",
       "    </tr>\n",
       "    <tr>\n",
       "      <th>4</th>\n",
       "      <td>58703693</td>\n",
       "      <td>62544456</td>\n",
       "      <td>9550</td>\n",
       "      <td>9550</td>\n",
       "      <td>36 months</td>\n",
       "      <td>19.99</td>\n",
       "      <td>354.87</td>\n",
       "      <td>E</td>\n",
       "      <td>E4</td>\n",
       "      <td>NaN</td>\n",
       "      <td>...</td>\n",
       "      <td>Jan-16</td>\n",
       "      <td>0</td>\n",
       "      <td>69.0</td>\n",
       "      <td>INDIVIDUAL</td>\n",
       "      <td>NaN</td>\n",
       "      <td>NaN</td>\n",
       "      <td>0</td>\n",
       "      <td>0</td>\n",
       "      <td>45492</td>\n",
       "      <td>14100</td>\n",
       "    </tr>\n",
       "  </tbody>\n",
       "</table>\n",
       "<p>5 rows × 49 columns</p>\n",
       "</div>"
      ],
      "text/plain": [
       "         id  member_id  loan_amnt  funded_amnt        term  int_rate  \\\n",
       "0  60516983   64537751      20000        20000   36 months     12.29   \n",
       "1  60187139   64163931      11000        11000   36 months     12.69   \n",
       "2  60356453   64333218       7000         7000   36 months      9.99   \n",
       "3  59955769   63900496      10000        10000   36 months     10.99   \n",
       "4  58703693   62544456       9550         9550   36 months     19.99   \n",
       "\n",
       "   installment grade sub_grade              emp_title  ... last_credit_pull_d  \\\n",
       "0       667.06     C        C1       Accounting Clerk  ...             Jan-16   \n",
       "1       369.00     C        C2  Accounts Payable Lead  ...             Jan-16   \n",
       "2       225.84     B        B3                  Nurse  ...             Jan-16   \n",
       "3       327.34     B        B4        Service Manager  ...             Jan-16   \n",
       "4       354.87     E        E4                    NaN  ...             Jan-16   \n",
       "\n",
       "  collections_12_mths_ex_med  mths_since_last_major_derog application_type  \\\n",
       "0                          0                          NaN       INDIVIDUAL   \n",
       "1                          0                         79.0       INDIVIDUAL   \n",
       "2                          0                          NaN       INDIVIDUAL   \n",
       "3                          0                          NaN       INDIVIDUAL   \n",
       "4                          0                         69.0       INDIVIDUAL   \n",
       "\n",
       "  annual_inc_joint dti_joint acc_now_delinq tot_coll_amt  tot_cur_bal  \\\n",
       "0              NaN       NaN              0            0        52303   \n",
       "1              NaN       NaN              0          332       175731   \n",
       "2              NaN       NaN              0            0       202012   \n",
       "3              NaN       NaN              0            0       108235   \n",
       "4              NaN       NaN              0            0        45492   \n",
       "\n",
       "   total_rev_hi_lim  \n",
       "0             41000  \n",
       "1             13100  \n",
       "2             16300  \n",
       "3             34750  \n",
       "4             14100  \n",
       "\n",
       "[5 rows x 49 columns]"
      ]
     },
     "execution_count": 122,
     "metadata": {},
     "output_type": "execute_result"
    }
   ],
   "source": [
    "df=pd.read_csv('C:\\\\Users\\\\Rounak\\\\Desktop\\\\OneDrive\\\\College\\\\Projects\\\\Hackathon\\\\MLZilla\\\\Playbot_MLZilla\\\\MLZilla_Case_Data.csv')\n",
    "df.head()"
   ]
  },
  {
   "cell_type": "code",
   "execution_count": 123,
   "metadata": {},
   "outputs": [
    {
     "data": {
      "text/plain": [
       "(212999, 49)"
      ]
     },
     "execution_count": 123,
     "metadata": {},
     "output_type": "execute_result"
    }
   ],
   "source": [
    "df.shape"
   ]
  },
  {
   "cell_type": "code",
   "execution_count": 124,
   "metadata": {},
   "outputs": [
    {
     "data": {
      "text/plain": [
       "id                                  0\n",
       "member_id                           0\n",
       "loan_amnt                           0\n",
       "funded_amnt                         0\n",
       "term                                0\n",
       "int_rate                            0\n",
       "installment                         0\n",
       "grade                               0\n",
       "sub_grade                           0\n",
       "emp_title                       12790\n",
       "emp_length                      12767\n",
       "home_ownership                      0\n",
       "annual_inc                          0\n",
       "verification_status                 0\n",
       "issue_d                             0\n",
       "loan_status                         0\n",
       "purpose                             0\n",
       "title                              15\n",
       "dti                                 0\n",
       "delinq_2yrs                         0\n",
       "earliest_cr_line                    0\n",
       "inq_last_6mths                      0\n",
       "mths_since_last_delinq         103371\n",
       "open_acc                            0\n",
       "pub_rec                             0\n",
       "revol_bal                           0\n",
       "revol_util                         82\n",
       "total_acc                           0\n",
       "initial_list_status                 0\n",
       "out_prncp                           0\n",
       "total_pymnt                         0\n",
       "total_rec_prncp                     0\n",
       "total_rec_int                       0\n",
       "total_rec_late_fee                  0\n",
       "recoveries                          0\n",
       "collection_recovery_fee             0\n",
       "last_pymnt_d                     8489\n",
       "last_pymnt_amnt                     0\n",
       "next_pymnt_d                     2773\n",
       "last_credit_pull_d                  7\n",
       "collections_12_mths_ex_med          0\n",
       "mths_since_last_major_derog    150634\n",
       "application_type                    0\n",
       "annual_inc_joint               212558\n",
       "dti_joint                      212560\n",
       "acc_now_delinq                      0\n",
       "tot_coll_amt                        0\n",
       "tot_cur_bal                         0\n",
       "total_rev_hi_lim                    0\n",
       "dtype: int64"
      ]
     },
     "execution_count": 124,
     "metadata": {},
     "output_type": "execute_result"
    }
   ],
   "source": [
    "df.isnull().sum()"
   ]
  },
  {
   "cell_type": "code",
   "execution_count": 125,
   "metadata": {},
   "outputs": [
    {
     "data": {
      "text/plain": [
       "id                               int64\n",
       "member_id                        int64\n",
       "loan_amnt                        int64\n",
       "funded_amnt                      int64\n",
       "term                            object\n",
       "int_rate                       float64\n",
       "installment                    float64\n",
       "grade                           object\n",
       "sub_grade                       object\n",
       "emp_title                       object\n",
       "emp_length                      object\n",
       "home_ownership                  object\n",
       "annual_inc                     float64\n",
       "verification_status             object\n",
       "issue_d                         object\n",
       "loan_status                     object\n",
       "purpose                         object\n",
       "title                           object\n",
       "dti                            float64\n",
       "delinq_2yrs                      int64\n",
       "earliest_cr_line                object\n",
       "inq_last_6mths                   int64\n",
       "mths_since_last_delinq         float64\n",
       "open_acc                         int64\n",
       "pub_rec                          int64\n",
       "revol_bal                        int64\n",
       "revol_util                     float64\n",
       "total_acc                        int64\n",
       "initial_list_status             object\n",
       "out_prncp                      float64\n",
       "total_pymnt                    float64\n",
       "total_rec_prncp                float64\n",
       "total_rec_int                  float64\n",
       "total_rec_late_fee             float64\n",
       "recoveries                     float64\n",
       "collection_recovery_fee        float64\n",
       "last_pymnt_d                    object\n",
       "last_pymnt_amnt                float64\n",
       "next_pymnt_d                    object\n",
       "last_credit_pull_d              object\n",
       "collections_12_mths_ex_med       int64\n",
       "mths_since_last_major_derog    float64\n",
       "application_type                object\n",
       "annual_inc_joint               float64\n",
       "dti_joint                      float64\n",
       "acc_now_delinq                   int64\n",
       "tot_coll_amt                     int64\n",
       "tot_cur_bal                      int64\n",
       "total_rev_hi_lim                 int64\n",
       "dtype: object"
      ]
     },
     "execution_count": 125,
     "metadata": {},
     "output_type": "execute_result"
    }
   ],
   "source": [
    "df.dtypes"
   ]
  },
  {
   "attachments": {},
   "cell_type": "markdown",
   "metadata": {},
   "source": [
    "## Dropping Columns\n",
    "- 'id' and 'member_id' was droped because it was unique for each row and hence not useful for analysis\n",
    "- 'mths_since_last_major_derog' was dropped because it had more than 50% of the data missing\n",
    "- 'annual_inc_joint' and 'dti_joint' were dropped because they had more than 90% of the data missing\n",
    "- 'emp_title' was dropped because it had too many unique values\n",
    "- 'issue_d' was dropped because it was the date of loan issue and that too of 2015 only and hence not useful for analysis\n",
    "- 'last_credit_pull_d' was dropped because it was the date of last credit pull and that too of 2016 only and hence not useful for analysis\n",
    "- 'last_pymnt_d' was dropped because it was the date of last payment and that too of 2015-2016 only and hence not useful for analysis\n",
    "- 'next_pymnt_d' was dropped because it was the date of next payment and hence not useful for analysis"
   ]
  },
  {
   "cell_type": "code",
   "execution_count": 126,
   "metadata": {},
   "outputs": [],
   "source": [
    "df.drop(['id','member_id', 'mths_since_last_major_derog', 'annual_inc_joint', 'dti_joint', 'emp_title', 'issue_d', 'last_credit_pull_d', 'last_pymnt_d', 'next_pymnt_d'], axis=1, inplace=True)"
   ]
  },
  {
   "attachments": {},
   "cell_type": "markdown",
   "metadata": {},
   "source": [
    "- Extracted digits from 'term' column and converted it to int\n",
    "- extracted year from 'earliest_cr_line' column and converted it to int\n",
    "- extracted experience years from 'emp_length' column and converted it to int"
   ]
  },
  {
   "cell_type": "code",
   "execution_count": 127,
   "metadata": {},
   "outputs": [
    {
     "name": "stderr",
     "output_type": "stream",
     "text": [
      "C:\\Users\\Rounak\\AppData\\Local\\Temp\\ipykernel_22440\\689754897.py:3: FutureWarning: The default value of regex will change from True to False in a future version. In addition, single character regular expressions will *not* be treated as literal strings when regex=True.\n",
      "  df['emp_length']=df['emp_length'].str.split(' ', expand=True)[0].str.replace('+','').str.replace('<','1').fillna(0).astype(int)\n"
     ]
    }
   ],
   "source": [
    "df['term']=df['term'].str.replace('months','').astype(int)\n",
    "df['earliest_cr_line']=df['earliest_cr_line'].str.split('-', expand=True)[1].astype(int)\n",
    "df['emp_length']=df['emp_length'].str.split(' ', expand=True)[0].str.replace('+','').str.replace('<','1').fillna(0).astype(int)"
   ]
  },
  {
   "attachments": {},
   "cell_type": "markdown",
   "metadata": {},
   "source": [
    "### Converted all the opjects to category using Label Encoder\n",
    "- Chose label encoder because few of the columns had more than 3 categories and hence one hot encoding would have increased the number of columns"
   ]
  },
  {
   "cell_type": "code",
   "execution_count": 128,
   "metadata": {},
   "outputs": [],
   "source": [
    "encoder = LabelEncoder()\n",
    "df['grade']=encoder.fit_transform(df['grade'])\n",
    "df['sub_grade']=encoder.fit_transform(df['sub_grade'])\n",
    "df['home_ownership']=encoder.fit_transform(df['home_ownership'])\n",
    "df['verification_status']=encoder.fit_transform(df['verification_status'])\n",
    "df['loan_status']=encoder.fit_transform(df['loan_status'])\n",
    "df['purpose']=encoder.fit_transform(df['purpose'])\n",
    "df = df.dropna(subset=['title'])\n",
    "df['title']=encoder.fit_transform(df['title'])\n",
    "df['initial_list_status']=encoder.fit_transform(df['initial_list_status'])\n",
    "df['application_type']=encoder.fit_transform(df['application_type'])\n",
    "df['term']=encoder.fit_transform(df['term'])"
   ]
  },
  {
   "cell_type": "code",
   "execution_count": 129,
   "metadata": {},
   "outputs": [
    {
     "data": {
      "text/html": [
       "<div>\n",
       "<style scoped>\n",
       "    .dataframe tbody tr th:only-of-type {\n",
       "        vertical-align: middle;\n",
       "    }\n",
       "\n",
       "    .dataframe tbody tr th {\n",
       "        vertical-align: top;\n",
       "    }\n",
       "\n",
       "    .dataframe thead th {\n",
       "        text-align: right;\n",
       "    }\n",
       "</style>\n",
       "<table border=\"1\" class=\"dataframe\">\n",
       "  <thead>\n",
       "    <tr style=\"text-align: right;\">\n",
       "      <th></th>\n",
       "      <th>loan_amnt</th>\n",
       "      <th>funded_amnt</th>\n",
       "      <th>term</th>\n",
       "      <th>int_rate</th>\n",
       "      <th>installment</th>\n",
       "      <th>grade</th>\n",
       "      <th>sub_grade</th>\n",
       "      <th>emp_length</th>\n",
       "      <th>home_ownership</th>\n",
       "      <th>annual_inc</th>\n",
       "      <th>...</th>\n",
       "      <th>total_rec_late_fee</th>\n",
       "      <th>recoveries</th>\n",
       "      <th>collection_recovery_fee</th>\n",
       "      <th>last_pymnt_amnt</th>\n",
       "      <th>collections_12_mths_ex_med</th>\n",
       "      <th>application_type</th>\n",
       "      <th>acc_now_delinq</th>\n",
       "      <th>tot_coll_amt</th>\n",
       "      <th>tot_cur_bal</th>\n",
       "      <th>total_rev_hi_lim</th>\n",
       "    </tr>\n",
       "  </thead>\n",
       "  <tbody>\n",
       "    <tr>\n",
       "      <th>0</th>\n",
       "      <td>20000</td>\n",
       "      <td>20000</td>\n",
       "      <td>0</td>\n",
       "      <td>12.29</td>\n",
       "      <td>667.06</td>\n",
       "      <td>2</td>\n",
       "      <td>10</td>\n",
       "      <td>1</td>\n",
       "      <td>2</td>\n",
       "      <td>65000.0</td>\n",
       "      <td>...</td>\n",
       "      <td>0.0</td>\n",
       "      <td>0.0</td>\n",
       "      <td>0.0</td>\n",
       "      <td>0.00</td>\n",
       "      <td>0</td>\n",
       "      <td>0</td>\n",
       "      <td>0</td>\n",
       "      <td>0</td>\n",
       "      <td>52303</td>\n",
       "      <td>41000</td>\n",
       "    </tr>\n",
       "    <tr>\n",
       "      <th>1</th>\n",
       "      <td>11000</td>\n",
       "      <td>11000</td>\n",
       "      <td>0</td>\n",
       "      <td>12.69</td>\n",
       "      <td>369.00</td>\n",
       "      <td>2</td>\n",
       "      <td>11</td>\n",
       "      <td>7</td>\n",
       "      <td>1</td>\n",
       "      <td>40000.0</td>\n",
       "      <td>...</td>\n",
       "      <td>0.0</td>\n",
       "      <td>0.0</td>\n",
       "      <td>0.0</td>\n",
       "      <td>10059.00</td>\n",
       "      <td>0</td>\n",
       "      <td>0</td>\n",
       "      <td>0</td>\n",
       "      <td>332</td>\n",
       "      <td>175731</td>\n",
       "      <td>13100</td>\n",
       "    </tr>\n",
       "    <tr>\n",
       "      <th>2</th>\n",
       "      <td>7000</td>\n",
       "      <td>7000</td>\n",
       "      <td>0</td>\n",
       "      <td>9.99</td>\n",
       "      <td>225.84</td>\n",
       "      <td>1</td>\n",
       "      <td>7</td>\n",
       "      <td>6</td>\n",
       "      <td>1</td>\n",
       "      <td>32000.0</td>\n",
       "      <td>...</td>\n",
       "      <td>0.0</td>\n",
       "      <td>0.0</td>\n",
       "      <td>0.0</td>\n",
       "      <td>225.84</td>\n",
       "      <td>0</td>\n",
       "      <td>0</td>\n",
       "      <td>0</td>\n",
       "      <td>0</td>\n",
       "      <td>202012</td>\n",
       "      <td>16300</td>\n",
       "    </tr>\n",
       "    <tr>\n",
       "      <th>3</th>\n",
       "      <td>10000</td>\n",
       "      <td>10000</td>\n",
       "      <td>0</td>\n",
       "      <td>10.99</td>\n",
       "      <td>327.34</td>\n",
       "      <td>1</td>\n",
       "      <td>8</td>\n",
       "      <td>10</td>\n",
       "      <td>1</td>\n",
       "      <td>48000.0</td>\n",
       "      <td>...</td>\n",
       "      <td>0.0</td>\n",
       "      <td>0.0</td>\n",
       "      <td>0.0</td>\n",
       "      <td>327.34</td>\n",
       "      <td>0</td>\n",
       "      <td>0</td>\n",
       "      <td>0</td>\n",
       "      <td>0</td>\n",
       "      <td>108235</td>\n",
       "      <td>34750</td>\n",
       "    </tr>\n",
       "    <tr>\n",
       "      <th>4</th>\n",
       "      <td>9550</td>\n",
       "      <td>9550</td>\n",
       "      <td>0</td>\n",
       "      <td>19.99</td>\n",
       "      <td>354.87</td>\n",
       "      <td>4</td>\n",
       "      <td>23</td>\n",
       "      <td>0</td>\n",
       "      <td>3</td>\n",
       "      <td>32376.0</td>\n",
       "      <td>...</td>\n",
       "      <td>0.0</td>\n",
       "      <td>0.0</td>\n",
       "      <td>0.0</td>\n",
       "      <td>354.87</td>\n",
       "      <td>0</td>\n",
       "      <td>0</td>\n",
       "      <td>0</td>\n",
       "      <td>0</td>\n",
       "      <td>45492</td>\n",
       "      <td>14100</td>\n",
       "    </tr>\n",
       "  </tbody>\n",
       "</table>\n",
       "<p>5 rows × 39 columns</p>\n",
       "</div>"
      ],
      "text/plain": [
       "   loan_amnt  funded_amnt  term  int_rate  installment  grade  sub_grade  \\\n",
       "0      20000        20000     0     12.29       667.06      2         10   \n",
       "1      11000        11000     0     12.69       369.00      2         11   \n",
       "2       7000         7000     0      9.99       225.84      1          7   \n",
       "3      10000        10000     0     10.99       327.34      1          8   \n",
       "4       9550         9550     0     19.99       354.87      4         23   \n",
       "\n",
       "   emp_length  home_ownership  annual_inc  ...  total_rec_late_fee  \\\n",
       "0           1               2     65000.0  ...                 0.0   \n",
       "1           7               1     40000.0  ...                 0.0   \n",
       "2           6               1     32000.0  ...                 0.0   \n",
       "3          10               1     48000.0  ...                 0.0   \n",
       "4           0               3     32376.0  ...                 0.0   \n",
       "\n",
       "   recoveries  collection_recovery_fee  last_pymnt_amnt  \\\n",
       "0         0.0                      0.0             0.00   \n",
       "1         0.0                      0.0         10059.00   \n",
       "2         0.0                      0.0           225.84   \n",
       "3         0.0                      0.0           327.34   \n",
       "4         0.0                      0.0           354.87   \n",
       "\n",
       "   collections_12_mths_ex_med  application_type  acc_now_delinq  tot_coll_amt  \\\n",
       "0                           0                 0               0             0   \n",
       "1                           0                 0               0           332   \n",
       "2                           0                 0               0             0   \n",
       "3                           0                 0               0             0   \n",
       "4                           0                 0               0             0   \n",
       "\n",
       "   tot_cur_bal  total_rev_hi_lim  \n",
       "0        52303             41000  \n",
       "1       175731             13100  \n",
       "2       202012             16300  \n",
       "3       108235             34750  \n",
       "4        45492             14100  \n",
       "\n",
       "[5 rows x 39 columns]"
      ]
     },
     "execution_count": 129,
     "metadata": {},
     "output_type": "execute_result"
    }
   ],
   "source": [
    "df.head()"
   ]
  },
  {
   "attachments": {},
   "cell_type": "markdown",
   "metadata": {},
   "source": [
    "### For our personal analysis\n",
    "- ==> The data also includes, assessing the creditworthness and verifying the income, employment, and assets.\n",
    "- ==> Purpose of the loan and the amount of the collateral is also considered.\n",
    "- ==> Once loan is approved, the lender sets the term of the loan, including the interest rate and repayment schedule.\n",
    "- ==> ML can be used to learn to identify the patterns that predict the liklihood of loan default and also help in evaluating the creditworthiness of the borowwer."
   ]
  },
  {
   "cell_type": "code",
   "execution_count": 130,
   "metadata": {},
   "outputs": [
    {
     "data": {
      "text/plain": [
       "<AxesSubplot:>"
      ]
     },
     "execution_count": 130,
     "metadata": {},
     "output_type": "execute_result"
    },
    {
     "data": {
      "image/png": "[encoded data removed]",
      "text/plain": [
       "<Figure size 792x648 with 2 Axes>"
      ]
     },
     "metadata": {},
     "output_type": "display_data"
    }
   ],
   "source": [
    "sns.set_theme(style=\"white\")\n",
    "corr = df.corr()\n",
    "mask = np.triu(np.ones_like(corr, dtype=bool))\n",
    "f, ax = plt.subplots(figsize=(11, 9))\n",
    "cmap = sns.diverging_palette(230, 20, as_cmap=True)\n",
    "sns.heatmap(corr, mask=mask, cmap=cmap, vmax=1, center=0, vmin=-1,\n",
    "            square=True, linewidths=.5, cbar_kws={\"shrink\": .5})"
   ]
  },
  {
   "attachments": {},
   "cell_type": "markdown",
   "metadata": {},
   "source": [
    "### We can deduce from the above headmap that there are few high co-relation between the features"
   ]
  },
  {
   "attachments": {},
   "cell_type": "markdown",
   "metadata": {},
   "source": [
    "- Calculating the mean and medain helps in understanding the distribution of the data. It also helps in understanding the outliers in the data.\n",
    "- Moreover, if the mean and median are close to each other, then the data is normally distributed. If the mean is greater than the median, then the data is right skewed and if the mean is less than the median, then the data is left skewed.\n",
    "- **We can see that the mean and median are close to each other for most of the columns. Hence, we can say that the data is normally distributed and the null values can be replaced by the mean.**"
   ]
  },
  {
   "cell_type": "code",
   "execution_count": 131,
   "metadata": {},
   "outputs": [
    {
     "name": "stdout",
     "output_type": "stream",
     "text": [
      "53.34358463713523\n",
      "53.5\n",
      "0    0.0\n",
      "Name: revol_util, dtype: float64\n"
     ]
    }
   ],
   "source": [
    "print(df.revol_util.mean())\n",
    "print(df.revol_util.median())\n",
    "print(df.revol_util.mode())"
   ]
  },
  {
   "cell_type": "code",
   "execution_count": 132,
   "metadata": {},
   "outputs": [],
   "source": [
    "df['mths_since_last_delinq'].fillna(df['mths_since_last_delinq'].mean(), inplace=True)\n",
    "df['revol_util'].fillna(df['revol_util'].median(), inplace=True)"
   ]
  },
  {
   "attachments": {},
   "cell_type": "markdown",
   "metadata": {},
   "source": [
    "## Performed univariate feature selection methods"
   ]
  },
  {
   "attachments": {},
   "cell_type": "markdown",
   "metadata": {},
   "source": [
    "- Chi-Square test works only for categorical features\n",
    "- ANOVA test works only for continuous features\n",
    "- Therefore we have to perform chi-square test on categorical features and ANOVA test on continuous features"
   ]
  },
  {
   "cell_type": "code",
   "execution_count": 133,
   "metadata": {},
   "outputs": [
    {
     "name": "stdout",
     "output_type": "stream",
     "text": [
      "                      Specs         Score\n",
      "21  collection_recovery_fee  17044.980745\n",
      "20               recoveries  14043.197919\n",
      "15                out_prncp   8429.062384\n",
      "19       total_rec_late_fee   3666.252728\n",
      "2                  int_rate   2362.106596\n",
      "18            total_rec_int    753.724660\n",
      "16              total_pymnt    594.960135\n",
      "8            inq_last_6mths    238.467732\n",
      "26              tot_cur_bal     89.461511\n",
      "27         total_rev_hi_lim     82.579964\n",
      "13               revol_util     45.129445\n",
      "7          earliest_cr_line     31.015608\n",
      "4                annual_inc     24.129437\n",
      "12                revol_bal     17.215343\n",
      "10                 open_acc      9.588235\n",
      "5                       dti      9.411058\n",
      "22          last_pymnt_amnt      6.929968\n",
      "3               installment      6.836520\n",
      "24           acc_now_delinq      3.687389\n",
      "25             tot_coll_amt      1.549770\n"
     ]
    }
   ],
   "source": [
    "#drop categorical columns\n",
    "X=df.drop(['loan_status','term','grade','sub_grade','emp_length','home_ownership','verification_status','purpose','title','application_type','initial_list_status'],axis=1)\n",
    "y=df['loan_status']\n",
    "bestfeatures = SelectKBest(f_classif,k=20)\n",
    "fit = bestfeatures.fit(X,y)\n",
    "dfscores = pd.DataFrame(fit.scores_)\n",
    "dfcolumns = pd.DataFrame(X.columns)\n",
    "featureScores = pd.concat([dfcolumns,dfscores],axis=1)\n",
    "featureScores.columns = ['Specs','Score']  #naming the dataframe columns\n",
    "print(featureScores.nlargest(20,'Score'))  #print 10 best features"
   ]
  },
  {
   "cell_type": "code",
   "execution_count": 134,
   "metadata": {},
   "outputs": [
    {
     "name": "stdout",
     "output_type": "stream",
     "text": [
      "                 Specs        Score\n",
      "2            sub_grade  8153.390790\n",
      "1                grade  1918.354441\n",
      "9  initial_list_status   312.776809\n",
      "6              purpose   132.263582\n",
      "3           emp_length   103.578306\n",
      "4       home_ownership    74.050944\n",
      "0                 term    60.956257\n",
      "5  verification_status    53.725179\n",
      "7                title    41.025781\n",
      "8     application_type     5.804263\n"
     ]
    }
   ],
   "source": [
    "X=df[['term','grade','sub_grade','emp_length','home_ownership','verification_status','purpose','title','application_type','initial_list_status']]\n",
    "y=df['loan_status']\n",
    "bestfeatures = SelectKBest(chi2,k=10)\n",
    "fit = bestfeatures.fit(X,y)\n",
    "dfscores = pd.DataFrame(fit.scores_)\n",
    "dfcolumns = pd.DataFrame(X.columns)\n",
    "featureScores = pd.concat([dfcolumns,dfscores],axis=1)\n",
    "featureScores.columns = ['Specs','Score']  #naming the dataframe columns\n",
    "print(featureScores.nlargest(10,'Score')) "
   ]
  },
  {
   "attachments": {},
   "cell_type": "markdown",
   "metadata": {},
   "source": [
    "### After performing uni-variate feature selection, we can see that the following features are important based on the p-value"
   ]
  },
  {
   "cell_type": "code",
   "execution_count": 135,
   "metadata": {},
   "outputs": [
    {
     "data": {
      "text/html": [
       "<div>\n",
       "<style scoped>\n",
       "    .dataframe tbody tr th:only-of-type {\n",
       "        vertical-align: middle;\n",
       "    }\n",
       "\n",
       "    .dataframe tbody tr th {\n",
       "        vertical-align: top;\n",
       "    }\n",
       "\n",
       "    .dataframe thead th {\n",
       "        text-align: right;\n",
       "    }\n",
       "</style>\n",
       "<table border=\"1\" class=\"dataframe\">\n",
       "  <thead>\n",
       "    <tr style=\"text-align: right;\">\n",
       "      <th></th>\n",
       "      <th>collection_recovery_fee</th>\n",
       "      <th>recoveries</th>\n",
       "      <th>out_prncp</th>\n",
       "      <th>total_rec_late_fee</th>\n",
       "      <th>int_rate</th>\n",
       "      <th>total_rec_int</th>\n",
       "      <th>total_pymnt</th>\n",
       "      <th>inq_last_6mths</th>\n",
       "      <th>sub_grade</th>\n",
       "      <th>loan_status</th>\n",
       "      <th>grade</th>\n",
       "      <th>initial_list_status</th>\n",
       "      <th>purpose</th>\n",
       "      <th>emp_length</th>\n",
       "    </tr>\n",
       "  </thead>\n",
       "  <tbody>\n",
       "    <tr>\n",
       "      <th>0</th>\n",
       "      <td>0.0</td>\n",
       "      <td>0.0</td>\n",
       "      <td>0.0</td>\n",
       "      <td>0.0</td>\n",
       "      <td>12.29</td>\n",
       "      <td>0.00</td>\n",
       "      <td>0.00</td>\n",
       "      <td>1</td>\n",
       "      <td>10</td>\n",
       "      <td>0</td>\n",
       "      <td>2</td>\n",
       "      <td>1</td>\n",
       "      <td>2</td>\n",
       "      <td>1</td>\n",
       "    </tr>\n",
       "    <tr>\n",
       "      <th>1</th>\n",
       "      <td>0.0</td>\n",
       "      <td>0.0</td>\n",
       "      <td>0.0</td>\n",
       "      <td>0.0</td>\n",
       "      <td>12.69</td>\n",
       "      <td>100.81</td>\n",
       "      <td>10043.49</td>\n",
       "      <td>0</td>\n",
       "      <td>11</td>\n",
       "      <td>0</td>\n",
       "      <td>2</td>\n",
       "      <td>1</td>\n",
       "      <td>2</td>\n",
       "      <td>7</td>\n",
       "    </tr>\n",
       "    <tr>\n",
       "      <th>2</th>\n",
       "      <td>0.0</td>\n",
       "      <td>0.0</td>\n",
       "      <td>0.0</td>\n",
       "      <td>0.0</td>\n",
       "      <td>9.99</td>\n",
       "      <td>54.40</td>\n",
       "      <td>221.96</td>\n",
       "      <td>1</td>\n",
       "      <td>7</td>\n",
       "      <td>0</td>\n",
       "      <td>1</td>\n",
       "      <td>0</td>\n",
       "      <td>2</td>\n",
       "      <td>6</td>\n",
       "    </tr>\n",
       "    <tr>\n",
       "      <th>3</th>\n",
       "      <td>0.0</td>\n",
       "      <td>0.0</td>\n",
       "      <td>0.0</td>\n",
       "      <td>0.0</td>\n",
       "      <td>10.99</td>\n",
       "      <td>79.37</td>\n",
       "      <td>315.13</td>\n",
       "      <td>2</td>\n",
       "      <td>8</td>\n",
       "      <td>0</td>\n",
       "      <td>1</td>\n",
       "      <td>0</td>\n",
       "      <td>1</td>\n",
       "      <td>10</td>\n",
       "    </tr>\n",
       "    <tr>\n",
       "      <th>4</th>\n",
       "      <td>0.0</td>\n",
       "      <td>0.0</td>\n",
       "      <td>0.0</td>\n",
       "      <td>0.0</td>\n",
       "      <td>19.99</td>\n",
       "      <td>137.88</td>\n",
       "      <td>333.66</td>\n",
       "      <td>3</td>\n",
       "      <td>23</td>\n",
       "      <td>0</td>\n",
       "      <td>4</td>\n",
       "      <td>1</td>\n",
       "      <td>2</td>\n",
       "      <td>0</td>\n",
       "    </tr>\n",
       "  </tbody>\n",
       "</table>\n",
       "</div>"
      ],
      "text/plain": [
       "   collection_recovery_fee  recoveries  out_prncp  total_rec_late_fee  \\\n",
       "0                      0.0         0.0        0.0                 0.0   \n",
       "1                      0.0         0.0        0.0                 0.0   \n",
       "2                      0.0         0.0        0.0                 0.0   \n",
       "3                      0.0         0.0        0.0                 0.0   \n",
       "4                      0.0         0.0        0.0                 0.0   \n",
       "\n",
       "   int_rate  total_rec_int  total_pymnt  inq_last_6mths  sub_grade  \\\n",
       "0     12.29           0.00         0.00               1         10   \n",
       "1     12.69         100.81     10043.49               0         11   \n",
       "2      9.99          54.40       221.96               1          7   \n",
       "3     10.99          79.37       315.13               2          8   \n",
       "4     19.99         137.88       333.66               3         23   \n",
       "\n",
       "   loan_status  grade  initial_list_status  purpose  emp_length  \n",
       "0            0      2                    1        2           1  \n",
       "1            0      2                    1        2           7  \n",
       "2            0      1                    0        2           6  \n",
       "3            0      1                    0        1          10  \n",
       "4            0      4                    1        2           0  "
      ]
     },
     "execution_count": 135,
     "metadata": {},
     "output_type": "execute_result"
    }
   ],
   "source": [
    "df=df[['collection_recovery_fee','recoveries','out_prncp','total_rec_late_fee','int_rate','total_rec_int','total_pymnt','inq_last_6mths','sub_grade','loan_status','grade','initial_list_status','purpose','emp_length']]\n",
    "df.head()"
   ]
  },
  {
   "cell_type": "code",
   "execution_count": 136,
   "metadata": {},
   "outputs": [
    {
     "data": {
      "text/plain": [
       "<AxesSubplot:>"
      ]
     },
     "execution_count": 136,
     "metadata": {},
     "output_type": "execute_result"
    },
    {
     "data": {
      "image/png": "[encoded data removed]",
      "text/plain": [
       "<Figure size 792x648 with 2 Axes>"
      ]
     },
     "metadata": {},
     "output_type": "display_data"
    }
   ],
   "source": [
    "sns.set_theme(style=\"white\")\n",
    "corr = df.corr()\n",
    "mask = np.triu(np.ones_like(corr, dtype=bool))\n",
    "f, ax = plt.subplots(figsize=(11, 9))\n",
    "cmap = sns.diverging_palette(230, 20, as_cmap=True)\n",
    "sns.heatmap(corr, mask=mask, cmap=cmap, vmax=1, center=0, vmin=-1,\n",
    "            square=True, linewidths=.5, cbar_kws={\"shrink\": .5})"
   ]
  },
  {
   "attachments": {},
   "cell_type": "markdown",
   "metadata": {},
   "source": [
    "### Co-relation still exists between the features after performing so we drop a few features based on the co-relation\n",
    "- 'Grade' was dropped because it was highly co-related with 'sub_grade' and 'sub_grade' basically represents the 'grade' but more detailed.\n",
    "- One more reason to keep 'sub_grade' is that it has more categories and the score was higher for 'sub_grade' than 'grade'."
   ]
  },
  {
   "cell_type": "code",
   "execution_count": 137,
   "metadata": {},
   "outputs": [],
   "source": [
    "df.drop(['grade','int_rate','total_pymnt'], axis=1, inplace=True)"
   ]
  },
  {
   "attachments": {},
   "cell_type": "markdown",
   "metadata": {},
   "source": [
    "## Imbalanced Data\n",
    "- 0 is 'Charged Off' and 1 is 'Current'\n",
    "- We can see that the data is imbalanced. There are more 'Current' loans than 'Charged Off' loans.\n",
    "- We can use SMOTE to balance the data by generating synthetic data."
   ]
  },
  {
   "cell_type": "code",
   "execution_count": 138,
   "metadata": {},
   "outputs": [
    {
     "data": {
      "text/plain": [
       "1    210211\n",
       "0      2773\n",
       "Name: loan_status, dtype: int64"
      ]
     },
     "execution_count": 138,
     "metadata": {},
     "output_type": "execute_result"
    }
   ],
   "source": [
    "df['loan_status'].value_counts()"
   ]
  },
  {
   "cell_type": "code",
   "execution_count": 139,
   "metadata": {},
   "outputs": [
    {
     "data": {
      "text/html": [
       "<div>\n",
       "<style scoped>\n",
       "    .dataframe tbody tr th:only-of-type {\n",
       "        vertical-align: middle;\n",
       "    }\n",
       "\n",
       "    .dataframe tbody tr th {\n",
       "        vertical-align: top;\n",
       "    }\n",
       "\n",
       "    .dataframe thead th {\n",
       "        text-align: right;\n",
       "    }\n",
       "</style>\n",
       "<table border=\"1\" class=\"dataframe\">\n",
       "  <thead>\n",
       "    <tr style=\"text-align: right;\">\n",
       "      <th></th>\n",
       "      <th>collection_recovery_fee</th>\n",
       "      <th>recoveries</th>\n",
       "      <th>out_prncp</th>\n",
       "      <th>total_rec_late_fee</th>\n",
       "      <th>total_rec_int</th>\n",
       "      <th>inq_last_6mths</th>\n",
       "      <th>sub_grade</th>\n",
       "      <th>loan_status</th>\n",
       "      <th>initial_list_status</th>\n",
       "      <th>purpose</th>\n",
       "      <th>emp_length</th>\n",
       "    </tr>\n",
       "  </thead>\n",
       "  <tbody>\n",
       "    <tr>\n",
       "      <th>1100</th>\n",
       "      <td>0.0000</td>\n",
       "      <td>0.00</td>\n",
       "      <td>0.0</td>\n",
       "      <td>0.0</td>\n",
       "      <td>306.66</td>\n",
       "      <td>0</td>\n",
       "      <td>3</td>\n",
       "      <td>0</td>\n",
       "      <td>1</td>\n",
       "      <td>2</td>\n",
       "      <td>10</td>\n",
       "    </tr>\n",
       "    <tr>\n",
       "      <th>179</th>\n",
       "      <td>0.0000</td>\n",
       "      <td>0.00</td>\n",
       "      <td>0.0</td>\n",
       "      <td>0.0</td>\n",
       "      <td>338.79</td>\n",
       "      <td>0</td>\n",
       "      <td>20</td>\n",
       "      <td>0</td>\n",
       "      <td>1</td>\n",
       "      <td>2</td>\n",
       "      <td>5</td>\n",
       "    </tr>\n",
       "    <tr>\n",
       "      <th>2150</th>\n",
       "      <td>775.6524</td>\n",
       "      <td>4309.18</td>\n",
       "      <td>0.0</td>\n",
       "      <td>0.0</td>\n",
       "      <td>620.80</td>\n",
       "      <td>0</td>\n",
       "      <td>15</td>\n",
       "      <td>0</td>\n",
       "      <td>0</td>\n",
       "      <td>2</td>\n",
       "      <td>10</td>\n",
       "    </tr>\n",
       "    <tr>\n",
       "      <th>371</th>\n",
       "      <td>0.0000</td>\n",
       "      <td>0.00</td>\n",
       "      <td>0.0</td>\n",
       "      <td>0.0</td>\n",
       "      <td>1148.31</td>\n",
       "      <td>2</td>\n",
       "      <td>25</td>\n",
       "      <td>0</td>\n",
       "      <td>0</td>\n",
       "      <td>2</td>\n",
       "      <td>10</td>\n",
       "    </tr>\n",
       "    <tr>\n",
       "      <th>2746</th>\n",
       "      <td>0.0000</td>\n",
       "      <td>0.00</td>\n",
       "      <td>0.0</td>\n",
       "      <td>0.0</td>\n",
       "      <td>2402.44</td>\n",
       "      <td>0</td>\n",
       "      <td>26</td>\n",
       "      <td>0</td>\n",
       "      <td>0</td>\n",
       "      <td>2</td>\n",
       "      <td>7</td>\n",
       "    </tr>\n",
       "    <tr>\n",
       "      <th>1218</th>\n",
       "      <td>0.0000</td>\n",
       "      <td>0.00</td>\n",
       "      <td>0.0</td>\n",
       "      <td>0.0</td>\n",
       "      <td>601.99</td>\n",
       "      <td>1</td>\n",
       "      <td>24</td>\n",
       "      <td>0</td>\n",
       "      <td>0</td>\n",
       "      <td>8</td>\n",
       "      <td>1</td>\n",
       "    </tr>\n",
       "    <tr>\n",
       "      <th>1712</th>\n",
       "      <td>0.0000</td>\n",
       "      <td>0.00</td>\n",
       "      <td>0.0</td>\n",
       "      <td>0.0</td>\n",
       "      <td>1647.94</td>\n",
       "      <td>0</td>\n",
       "      <td>13</td>\n",
       "      <td>0</td>\n",
       "      <td>1</td>\n",
       "      <td>2</td>\n",
       "      <td>8</td>\n",
       "    </tr>\n",
       "    <tr>\n",
       "      <th>1073</th>\n",
       "      <td>0.0000</td>\n",
       "      <td>0.00</td>\n",
       "      <td>0.0</td>\n",
       "      <td>0.0</td>\n",
       "      <td>367.89</td>\n",
       "      <td>0</td>\n",
       "      <td>14</td>\n",
       "      <td>0</td>\n",
       "      <td>0</td>\n",
       "      <td>6</td>\n",
       "      <td>4</td>\n",
       "    </tr>\n",
       "    <tr>\n",
       "      <th>2320</th>\n",
       "      <td>0.0000</td>\n",
       "      <td>0.00</td>\n",
       "      <td>0.0</td>\n",
       "      <td>0.0</td>\n",
       "      <td>1122.64</td>\n",
       "      <td>1</td>\n",
       "      <td>18</td>\n",
       "      <td>0</td>\n",
       "      <td>0</td>\n",
       "      <td>2</td>\n",
       "      <td>1</td>\n",
       "    </tr>\n",
       "    <tr>\n",
       "      <th>1671</th>\n",
       "      <td>0.0000</td>\n",
       "      <td>0.00</td>\n",
       "      <td>0.0</td>\n",
       "      <td>0.0</td>\n",
       "      <td>330.55</td>\n",
       "      <td>0</td>\n",
       "      <td>9</td>\n",
       "      <td>0</td>\n",
       "      <td>1</td>\n",
       "      <td>2</td>\n",
       "      <td>3</td>\n",
       "    </tr>\n",
       "  </tbody>\n",
       "</table>\n",
       "</div>"
      ],
      "text/plain": [
       "      collection_recovery_fee  recoveries  out_prncp  total_rec_late_fee  \\\n",
       "1100                   0.0000        0.00        0.0                 0.0   \n",
       "179                    0.0000        0.00        0.0                 0.0   \n",
       "2150                 775.6524     4309.18        0.0                 0.0   \n",
       "371                    0.0000        0.00        0.0                 0.0   \n",
       "2746                   0.0000        0.00        0.0                 0.0   \n",
       "1218                   0.0000        0.00        0.0                 0.0   \n",
       "1712                   0.0000        0.00        0.0                 0.0   \n",
       "1073                   0.0000        0.00        0.0                 0.0   \n",
       "2320                   0.0000        0.00        0.0                 0.0   \n",
       "1671                   0.0000        0.00        0.0                 0.0   \n",
       "\n",
       "      total_rec_int  inq_last_6mths  sub_grade  loan_status  \\\n",
       "1100         306.66               0          3            0   \n",
       "179          338.79               0         20            0   \n",
       "2150         620.80               0         15            0   \n",
       "371         1148.31               2         25            0   \n",
       "2746        2402.44               0         26            0   \n",
       "1218         601.99               1         24            0   \n",
       "1712        1647.94               0         13            0   \n",
       "1073         367.89               0         14            0   \n",
       "2320        1122.64               1         18            0   \n",
       "1671         330.55               0          9            0   \n",
       "\n",
       "      initial_list_status  purpose  emp_length  \n",
       "1100                    1        2          10  \n",
       "179                     1        2           5  \n",
       "2150                    0        2          10  \n",
       "371                     0        2          10  \n",
       "2746                    0        2           7  \n",
       "1218                    0        8           1  \n",
       "1712                    1        2           8  \n",
       "1073                    0        6           4  \n",
       "2320                    0        2           1  \n",
       "1671                    1        2           3  "
      ]
     },
     "execution_count": 139,
     "metadata": {},
     "output_type": "execute_result"
    }
   ],
   "source": [
    "df[df['loan_status']==0].sample(10)"
   ]
  },
  {
   "cell_type": "code",
   "execution_count": 140,
   "metadata": {},
   "outputs": [
    {
     "data": {
      "text/plain": [
       "(2773, 11)"
      ]
     },
     "execution_count": 140,
     "metadata": {},
     "output_type": "execute_result"
    }
   ],
   "source": [
    "df_ChargedOff=df[df['loan_status']==0]\n",
    "df_ChargedOff.shape"
   ]
  },
  {
   "attachments": {},
   "cell_type": "markdown",
   "metadata": {},
   "source": [
    "### Duplicating the 'Charged Off' data"
   ]
  },
  {
   "cell_type": "code",
   "execution_count": 141,
   "metadata": {},
   "outputs": [],
   "source": [
    "temp=pd.DataFrame()\n",
    "for i in range(5):\n",
    "     temp=pd.concat([temp,pd.concat([df_ChargedOff,df_ChargedOff])])"
   ]
  },
  {
   "cell_type": "code",
   "execution_count": 142,
   "metadata": {},
   "outputs": [
    {
     "data": {
      "text/plain": [
       "0    27730\n",
       "Name: loan_status, dtype: int64"
      ]
     },
     "execution_count": 142,
     "metadata": {},
     "output_type": "execute_result"
    }
   ],
   "source": [
    "temp['loan_status'].value_counts()"
   ]
  },
  {
   "cell_type": "code",
   "execution_count": 143,
   "metadata": {},
   "outputs": [],
   "source": [
    "df=pd.concat([df,temp])"
   ]
  },
  {
   "cell_type": "code",
   "execution_count": 144,
   "metadata": {},
   "outputs": [
    {
     "data": {
      "text/plain": [
       "1    210211\n",
       "0     30503\n",
       "Name: loan_status, dtype: int64"
      ]
     },
     "execution_count": 144,
     "metadata": {},
     "output_type": "execute_result"
    }
   ],
   "source": [
    "df['loan_status'].value_counts()"
   ]
  },
  {
   "attachments": {},
   "cell_type": "markdown",
   "metadata": {},
   "source": [
    "### SMOTE\n",
    "- Oversampling the minority class\n",
    "- It works by creating synthetic samples from the minor class instead of creating copies."
   ]
  },
  {
   "cell_type": "code",
   "execution_count": 145,
   "metadata": {},
   "outputs": [],
   "source": [
    "smote=SMOTE(sampling_strategy='not majority')"
   ]
  },
  {
   "cell_type": "code",
   "execution_count": 146,
   "metadata": {},
   "outputs": [],
   "source": [
    "df_x=df.iloc[:,:-1]"
   ]
  },
  {
   "cell_type": "code",
   "execution_count": 147,
   "metadata": {},
   "outputs": [],
   "source": [
    "df_y=df['loan_status']"
   ]
  },
  {
   "cell_type": "code",
   "execution_count": 148,
   "metadata": {},
   "outputs": [],
   "source": [
    "X_sm,Y_sm=smote.fit_resample(df_x, df_y)"
   ]
  },
  {
   "cell_type": "code",
   "execution_count": 149,
   "metadata": {},
   "outputs": [
    {
     "data": {
      "text/plain": [
       "0    210211\n",
       "1    210211\n",
       "Name: loan_status, dtype: int64"
      ]
     },
     "execution_count": 149,
     "metadata": {},
     "output_type": "execute_result"
    }
   ],
   "source": [
    "Y_sm.value_counts()"
   ]
  },
  {
   "attachments": {},
   "cell_type": "markdown",
   "metadata": {},
   "source": [
    "## Splliting the data into train and test\n",
    "- We have used 80% of the data for training and 20% of the data for testing"
   ]
  },
  {
   "cell_type": "code",
   "execution_count": 150,
   "metadata": {},
   "outputs": [],
   "source": [
    "# split data into train and test sets\n",
    "X_train, X_test, y_train, y_test = train_test_split(X_sm, Y_sm, test_size=0.8, random_state=42)"
   ]
  },
  {
   "cell_type": "code",
   "execution_count": 151,
   "metadata": {},
   "outputs": [
    {
     "name": "stdout",
     "output_type": "stream",
     "text": [
      "(84084, 10)\n",
      "(336338, 10)\n"
     ]
    }
   ],
   "source": [
    "# shape of train and test sets\n",
    "print(X_train.shape)\n",
    "print(X_test.shape)"
   ]
  },
  {
   "attachments": {},
   "cell_type": "markdown",
   "metadata": {},
   "source": [
    "## Fitting the model\n",
    "### Random Forest Classifier"
   ]
  },
  {
   "cell_type": "code",
   "execution_count": 152,
   "metadata": {},
   "outputs": [
    {
     "data": {
      "text/plain": [
       "RandomForestClassifier(max_depth=10, n_estimators=200, random_state=42)"
      ]
     },
     "execution_count": 152,
     "metadata": {},
     "output_type": "execute_result"
    }
   ],
   "source": [
    "# fit model no training data\n",
    "model = RandomForestClassifier(max_depth=10, random_state=42, n_estimators=200)\n",
    "model.fit(X_train, y_train)"
   ]
  },
  {
   "cell_type": "code",
   "execution_count": 153,
   "metadata": {},
   "outputs": [
    {
     "name": "stdout",
     "output_type": "stream",
     "text": [
      "Accuracy on training set: 1.000\n",
      "Accuracy on test set: 1.000\n"
     ]
    }
   ],
   "source": [
    "# check the accuracy on the training set and test set\n",
    "print(\"Accuracy on training set: {:.3f}\".format(model.score(X_train, y_train)))\n",
    "print(\"Accuracy on test set: {:.3f}\".format(model.score(X_test, y_test)))"
   ]
  },
  {
   "cell_type": "code",
   "execution_count": 154,
   "metadata": {},
   "outputs": [
    {
     "name": "stdout",
     "output_type": "stream",
     "text": [
      "              precision    recall  f1-score   support\n",
      "\n",
      "           0       1.00      1.00      1.00    168289\n",
      "           1       1.00      1.00      1.00    168049\n",
      "\n",
      "    accuracy                           1.00    336338\n",
      "   macro avg       1.00      1.00      1.00    336338\n",
      "weighted avg       1.00      1.00      1.00    336338\n",
      "\n"
     ]
    }
   ],
   "source": [
    "# classification report\n",
    "y_pred = model.predict(X_test)\n",
    "print(classification_report(y_test, y_pred))"
   ]
  },
  {
   "cell_type": "code",
   "execution_count": 155,
   "metadata": {},
   "outputs": [
    {
     "data": {
      "text/plain": [
       "Text(30.5, 0.5, 'Actual')"
      ]
     },
     "execution_count": 155,
     "metadata": {},
     "output_type": "execute_result"
    },
    {
     "data": {
      "image/png": "[encoded data removed]",
      "text/plain": [
       "<Figure size 432x288 with 2 Axes>"
      ]
     },
     "metadata": {},
     "output_type": "display_data"
    }
   ],
   "source": [
    "# confusion matrix in graphical form\n",
    "cm = confusion_matrix(y_test, y_pred)\n",
    "sns.heatmap(cm, annot=True, fmt='d', cmap='Blues')\n",
    "plt.title('Confusion Matrix')\n",
    "plt.xlabel('Predicted')\n",
    "plt.ylabel('Actual')"
   ]
  },
  {
   "attachments": {},
   "cell_type": "markdown",
   "metadata": {},
   "source": [
    "Achieved a really good score on both train and test data\n",
    "### XGBoost Classifier"
   ]
  },
  {
   "cell_type": "code",
   "execution_count": 156,
   "metadata": {},
   "outputs": [
    {
     "data": {
      "text/plain": [
       "XGBClassifier(base_score=None, booster=None, callbacks=None,\n",
       "              colsample_bylevel=None, colsample_bynode=None,\n",
       "              colsample_bytree=None, early_stopping_rounds=None,\n",
       "              enable_categorical=False, eval_metric=None, feature_types=None,\n",
       "              gamma=None, gpu_id=None, grow_policy=None, importance_type=None,\n",
       "              interaction_constraints=None, learning_rate=None, max_bin=None,\n",
       "              max_cat_threshold=None, max_cat_to_onehot=None,\n",
       "              max_delta_step=None, max_depth=None, max_leaves=None,\n",
       "              min_child_weight=None, missing=nan, monotone_constraints=None,\n",
       "              n_estimators=100, n_jobs=None, num_parallel_tree=None,\n",
       "              predictor=None, random_state=None, ...)"
      ]
     },
     "execution_count": 156,
     "metadata": {},
     "output_type": "execute_result"
    }
   ],
   "source": [
    "# xg boost fit\n",
    "from xgboost import XGBClassifier as XGBClassifier\n",
    "xgb = XGBClassifier()\n",
    "xgb.fit(X_train, y_train)"
   ]
  },
  {
   "cell_type": "code",
   "execution_count": 157,
   "metadata": {},
   "outputs": [
    {
     "name": "stdout",
     "output_type": "stream",
     "text": [
      "Accuracy on training set: 1.000\n",
      "Accuracy on test set: 1.000\n"
     ]
    }
   ],
   "source": [
    "# check the accuracy on the training set and test set\n",
    "print(\"Accuracy on training set: {:.3f}\".format(xgb.score(X_train, y_train)))\n",
    "print(\"Accuracy on test set: {:.3f}\".format(xgb.score(X_test, y_test)))"
   ]
  },
  {
   "cell_type": "code",
   "execution_count": 158,
   "metadata": {},
   "outputs": [
    {
     "data": {
      "text/plain": [
       "Text(30.5, 0.5, 'Actual')"
      ]
     },
     "execution_count": 158,
     "metadata": {},
     "output_type": "execute_result"
    },
    {
     "data": {
      "image/png": "[encoded data removed]",
      "text/plain": [
       "<Figure size 432x288 with 2 Axes>"
      ]
     },
     "metadata": {},
     "output_type": "display_data"
    }
   ],
   "source": [
    "cm = confusion_matrix(y_test, y_pred)\n",
    "sns.heatmap(cm, annot=True, fmt='d', cmap='Blues')\n",
    "plt.title('Confusion Matrix')\n",
    "plt.xlabel('Predicted')\n",
    "plt.ylabel('Actual')"
   ]
  },
  {
   "attachments": {},
   "cell_type": "markdown",
   "metadata": {},
   "source": [
    "Again achieved a really good score on both train and test data"
   ]
  },
  {
   "cell_type": "code",
   "execution_count": null,
   "metadata": {},
   "outputs": [],
   "source": []
  }
 ],
 "metadata": {
  "kernelspec": {
   "display_name": "Python 3",
   "language": "python",
   "name": "python3"
  },
  "language_info": {
   "codemirror_mode": {
    "name": "ipython",
    "version": 3
   },
   "file_extension": ".py",
   "mimetype": "text/x-python",
   "name": "python",
   "nbconvert_exporter": "python",
   "pygments_lexer": "ipython3",
   "version": "3.8.0"
  },
  "orig_nbformat": 4,
  "vscode": {
   "interpreter": {
    "hash": "570feb405e2e27c949193ac68f46852414290d515b0ba6e5d90d076ed2284471"
   }
  }
 },
 "nbformat": 4,
 "nbformat_minor": 2
}
